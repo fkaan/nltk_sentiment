{
 "cells": [
  {
   "cell_type": "code",
   "execution_count": 2,
   "id": "bcabbfd5-d2cf-433b-ba9a-73ba51825e41",
   "metadata": {},
   "outputs": [],
   "source": [
    "from pprint import pprint\n",
    "import pandas as pd\n",
    "import numpy as np \n",
    "import matplotlib.pyplot as plt \n",
    "import seaborn as sns "
   ]
  },
  {
   "cell_type": "code",
   "execution_count": 5,
   "id": "b821dcc2-6c2e-4040-be83-a0cb2b21f2fa",
   "metadata": {},
   "outputs": [],
   "source": [
    "import praw \n",
    "user_agent = \"fekef\"\n",
    "reddit = praw.Reddit(\n",
    "    client_id = \"VafaxrhTsgDU_IC9z-8heA\",\n",
    "    client_secret = \"IyYOKbjksZn4IcTSHk_JGKzYWZFtLw\",\n",
    "    user_agent = user_agent\n",
    ")"
   ]
  },
  {
   "cell_type": "code",
   "execution_count": 17,
   "id": "4d634b00-85c3-4dca-9545-e98975c43b1b",
   "metadata": {},
   "outputs": [
    {
     "name": "stdout",
     "output_type": "stream",
     "text": [
      "659\n"
     ]
    }
   ],
   "source": [
    "headlines = set()\n",
    "for submission in reddit.subreddit('climatechange').hot(limit=None):\n",
    "    \n",
    "    headlines.add(submission.title)\n",
    "print(len(headlines))    "
   ]
  },
  {
   "cell_type": "code",
   "execution_count": 18,
   "id": "bb364aed-ca3e-4f2d-ab69-23b7651aec1c",
   "metadata": {},
   "outputs": [
    {
     "data": {
      "text/html": [
       "<div>\n",
       "<style scoped>\n",
       "    .dataframe tbody tr th:only-of-type {\n",
       "        vertical-align: middle;\n",
       "    }\n",
       "\n",
       "    .dataframe tbody tr th {\n",
       "        vertical-align: top;\n",
       "    }\n",
       "\n",
       "    .dataframe thead th {\n",
       "        text-align: right;\n",
       "    }\n",
       "</style>\n",
       "<table border=\"1\" class=\"dataframe\">\n",
       "  <thead>\n",
       "    <tr style=\"text-align: right;\">\n",
       "      <th></th>\n",
       "      <th>0</th>\n",
       "    </tr>\n",
       "  </thead>\n",
       "  <tbody>\n",
       "    <tr>\n",
       "      <th>0</th>\n",
       "      <td>Hidden threat: Global underground infrastructu...</td>\n",
       "    </tr>\n",
       "    <tr>\n",
       "      <th>1</th>\n",
       "      <td>How exactly are we supposed to be fixing this?</td>\n",
       "    </tr>\n",
       "    <tr>\n",
       "      <th>2</th>\n",
       "      <td>England and Wales had warmest February on record</td>\n",
       "    </tr>\n",
       "    <tr>\n",
       "      <th>3</th>\n",
       "      <td>It’s so warm here in Chicago.</td>\n",
       "    </tr>\n",
       "    <tr>\n",
       "      <th>4</th>\n",
       "      <td>Doomed polar bear population, perhaps.</td>\n",
       "    </tr>\n",
       "  </tbody>\n",
       "</table>\n",
       "</div>"
      ],
      "text/plain": [
       "                                                   0\n",
       "0  Hidden threat: Global underground infrastructu...\n",
       "1     How exactly are we supposed to be fixing this?\n",
       "2   England and Wales had warmest February on record\n",
       "3                      It’s so warm here in Chicago.\n",
       "4             Doomed polar bear population, perhaps."
      ]
     },
     "execution_count": 18,
     "metadata": {},
     "output_type": "execute_result"
    }
   ],
   "source": [
    "df = pd.DataFrame(headlines)\n",
    "df.head()\n"
   ]
  },
  {
   "cell_type": "code",
   "execution_count": 19,
   "id": "4a1c3dd6-93a0-478d-90ae-649880fe35eb",
   "metadata": {},
   "outputs": [],
   "source": [
    "df.to_csv(\"climate_headlines.csv\", header = False, encoding = \"utf-8\", index = False)"
   ]
  },
  {
   "cell_type": "code",
   "execution_count": 20,
   "id": "0000971b-8d07-4cc2-8323-0fe07937a088",
   "metadata": {},
   "outputs": [],
   "source": [
    "import nltk"
   ]
  },
  {
   "cell_type": "code",
   "execution_count": 22,
   "id": "c028bb01-010b-43b6-a835-5437cb5e1c8a",
   "metadata": {},
   "outputs": [
    {
     "name": "stderr",
     "output_type": "stream",
     "text": [
      "[nltk_data] Downloading package vader_lexicon to\n",
      "[nltk_data]     /home/fekef/nltk_data...\n"
     ]
    },
    {
     "data": {
      "text/plain": [
       "True"
      ]
     },
     "execution_count": 22,
     "metadata": {},
     "output_type": "execute_result"
    }
   ],
   "source": [
    "nltk.download(\"vader_lexicon\")"
   ]
  },
  {
   "cell_type": "code",
   "execution_count": 23,
   "id": "88b85f05-d62a-4893-a8af-cff6b01d8753",
   "metadata": {},
   "outputs": [],
   "source": [
    "from nltk.sentiment.vader import SentimentIntensityAnalyzer as SIA"
   ]
  },
  {
   "cell_type": "code",
   "execution_count": 27,
   "id": "b1393330-6600-4bfb-beb8-122d90b6aea0",
   "metadata": {},
   "outputs": [
    {
     "name": "stdout",
     "output_type": "stream",
     "text": [
      "[{'compound': -0.6486,\n",
      "  'headline': 'Hidden threat: Global underground infrastructure vulnerable to sea-level rise',\n",
      "  'neg': 0.431,\n",
      "  'neu': 0.569,\n",
      "  'pos': 0.0},\n",
      " {'compound': 0.0,\n",
      "  'headline': 'How exactly are we supposed to be fixing this?',\n",
      "  'neg': 0.0,\n",
      "  'neu': 1.0,\n",
      "  'pos': 0.0},\n",
      " {'compound': 0.4019,\n",
      "  'headline': 'England and Wales had warmest February on record',\n",
      "  'neg': 0.0,\n",
      "  'neu': 0.722,\n",
      "  'pos': 0.278}]\n"
     ]
    }
   ],
   "source": [
    "sia = SIA()\n",
    "results = []\n",
    "for line in headlines: \n",
    "    pol_score = sia.polarity_scores(line)\n",
    "    pol_score[\"headline\"] = line \n",
    "    results.append(pol_score)\n",
    "pprint(results[:3], width = 100)"
   ]
  },
  {
   "cell_type": "code",
   "execution_count": 28,
   "id": "443b2899-7c7e-487f-882d-322e86cd6dfb",
   "metadata": {},
   "outputs": [
    {
     "data": {
      "text/html": [
       "<div>\n",
       "<style scoped>\n",
       "    .dataframe tbody tr th:only-of-type {\n",
       "        vertical-align: middle;\n",
       "    }\n",
       "\n",
       "    .dataframe tbody tr th {\n",
       "        vertical-align: top;\n",
       "    }\n",
       "\n",
       "    .dataframe thead th {\n",
       "        text-align: right;\n",
       "    }\n",
       "</style>\n",
       "<table border=\"1\" class=\"dataframe\">\n",
       "  <thead>\n",
       "    <tr style=\"text-align: right;\">\n",
       "      <th></th>\n",
       "      <th>neg</th>\n",
       "      <th>neu</th>\n",
       "      <th>pos</th>\n",
       "      <th>compound</th>\n",
       "      <th>headline</th>\n",
       "    </tr>\n",
       "  </thead>\n",
       "  <tbody>\n",
       "    <tr>\n",
       "      <th>0</th>\n",
       "      <td>0.431</td>\n",
       "      <td>0.569</td>\n",
       "      <td>0.000</td>\n",
       "      <td>-0.6486</td>\n",
       "      <td>Hidden threat: Global underground infrastructu...</td>\n",
       "    </tr>\n",
       "    <tr>\n",
       "      <th>1</th>\n",
       "      <td>0.000</td>\n",
       "      <td>1.000</td>\n",
       "      <td>0.000</td>\n",
       "      <td>0.0000</td>\n",
       "      <td>How exactly are we supposed to be fixing this?</td>\n",
       "    </tr>\n",
       "    <tr>\n",
       "      <th>2</th>\n",
       "      <td>0.000</td>\n",
       "      <td>0.722</td>\n",
       "      <td>0.278</td>\n",
       "      <td>0.4019</td>\n",
       "      <td>England and Wales had warmest February on record</td>\n",
       "    </tr>\n",
       "    <tr>\n",
       "      <th>3</th>\n",
       "      <td>0.000</td>\n",
       "      <td>0.695</td>\n",
       "      <td>0.305</td>\n",
       "      <td>0.2944</td>\n",
       "      <td>It’s so warm here in Chicago.</td>\n",
       "    </tr>\n",
       "    <tr>\n",
       "      <th>4</th>\n",
       "      <td>0.512</td>\n",
       "      <td>0.488</td>\n",
       "      <td>0.000</td>\n",
       "      <td>-0.6369</td>\n",
       "      <td>Doomed polar bear population, perhaps.</td>\n",
       "    </tr>\n",
       "  </tbody>\n",
       "</table>\n",
       "</div>"
      ],
      "text/plain": [
       "     neg    neu    pos  compound  \\\n",
       "0  0.431  0.569  0.000   -0.6486   \n",
       "1  0.000  1.000  0.000    0.0000   \n",
       "2  0.000  0.722  0.278    0.4019   \n",
       "3  0.000  0.695  0.305    0.2944   \n",
       "4  0.512  0.488  0.000   -0.6369   \n",
       "\n",
       "                                            headline  \n",
       "0  Hidden threat: Global underground infrastructu...  \n",
       "1     How exactly are we supposed to be fixing this?  \n",
       "2   England and Wales had warmest February on record  \n",
       "3                      It’s so warm here in Chicago.  \n",
       "4             Doomed polar bear population, perhaps.  "
      ]
     },
     "execution_count": 28,
     "metadata": {},
     "output_type": "execute_result"
    }
   ],
   "source": [
    "df = pd.DataFrame.from_records(results)\n",
    "df.head()"
   ]
  },
  {
   "cell_type": "code",
   "execution_count": 30,
   "id": "3ff69952-24de-416c-9e70-cabf1d6c740d",
   "metadata": {},
   "outputs": [
    {
     "data": {
      "text/html": [
       "<div>\n",
       "<style scoped>\n",
       "    .dataframe tbody tr th:only-of-type {\n",
       "        vertical-align: middle;\n",
       "    }\n",
       "\n",
       "    .dataframe tbody tr th {\n",
       "        vertical-align: top;\n",
       "    }\n",
       "\n",
       "    .dataframe thead th {\n",
       "        text-align: right;\n",
       "    }\n",
       "</style>\n",
       "<table border=\"1\" class=\"dataframe\">\n",
       "  <thead>\n",
       "    <tr style=\"text-align: right;\">\n",
       "      <th></th>\n",
       "      <th>neg</th>\n",
       "      <th>neu</th>\n",
       "      <th>pos</th>\n",
       "      <th>compound</th>\n",
       "      <th>headline</th>\n",
       "      <th>label</th>\n",
       "    </tr>\n",
       "  </thead>\n",
       "  <tbody>\n",
       "    <tr>\n",
       "      <th>0</th>\n",
       "      <td>0.431</td>\n",
       "      <td>0.569</td>\n",
       "      <td>0.000</td>\n",
       "      <td>-0.6486</td>\n",
       "      <td>Hidden threat: Global underground infrastructu...</td>\n",
       "      <td>0</td>\n",
       "    </tr>\n",
       "    <tr>\n",
       "      <th>1</th>\n",
       "      <td>0.000</td>\n",
       "      <td>1.000</td>\n",
       "      <td>0.000</td>\n",
       "      <td>0.0000</td>\n",
       "      <td>How exactly are we supposed to be fixing this?</td>\n",
       "      <td>-1</td>\n",
       "    </tr>\n",
       "    <tr>\n",
       "      <th>2</th>\n",
       "      <td>0.000</td>\n",
       "      <td>0.722</td>\n",
       "      <td>0.278</td>\n",
       "      <td>0.4019</td>\n",
       "      <td>England and Wales had warmest February on record</td>\n",
       "      <td>-1</td>\n",
       "    </tr>\n",
       "    <tr>\n",
       "      <th>3</th>\n",
       "      <td>0.000</td>\n",
       "      <td>0.695</td>\n",
       "      <td>0.305</td>\n",
       "      <td>0.2944</td>\n",
       "      <td>It’s so warm here in Chicago.</td>\n",
       "      <td>-1</td>\n",
       "    </tr>\n",
       "    <tr>\n",
       "      <th>4</th>\n",
       "      <td>0.512</td>\n",
       "      <td>0.488</td>\n",
       "      <td>0.000</td>\n",
       "      <td>-0.6369</td>\n",
       "      <td>Doomed polar bear population, perhaps.</td>\n",
       "      <td>0</td>\n",
       "    </tr>\n",
       "  </tbody>\n",
       "</table>\n",
       "</div>"
      ],
      "text/plain": [
       "     neg    neu    pos  compound  \\\n",
       "0  0.431  0.569  0.000   -0.6486   \n",
       "1  0.000  1.000  0.000    0.0000   \n",
       "2  0.000  0.722  0.278    0.4019   \n",
       "3  0.000  0.695  0.305    0.2944   \n",
       "4  0.512  0.488  0.000   -0.6369   \n",
       "\n",
       "                                            headline  label  \n",
       "0  Hidden threat: Global underground infrastructu...      0  \n",
       "1     How exactly are we supposed to be fixing this?     -1  \n",
       "2   England and Wales had warmest February on record     -1  \n",
       "3                      It’s so warm here in Chicago.     -1  \n",
       "4             Doomed polar bear population, perhaps.      0  "
      ]
     },
     "execution_count": 30,
     "metadata": {},
     "output_type": "execute_result"
    }
   ],
   "source": [
    "df[\"label\"] = 0 \n",
    "df.loc[df[\"compound\"] > 0.2, \"label\"] = 1\n",
    "df.loc[df[\"compound\"] > -0.2, \"label\"] = -1\n",
    "df.head()"
   ]
  },
  {
   "cell_type": "code",
   "execution_count": 31,
   "id": "01a08f12-a431-4a2f-bc53-b70c05dffb1c",
   "metadata": {},
   "outputs": [],
   "source": [
    "df2 = df[[\"headline\", \"label\"]]"
   ]
  },
  {
   "cell_type": "code",
   "execution_count": null,
   "id": "21fbf679-cdbd-4a91-819b-e8db5091610a",
   "metadata": {},
   "outputs": [],
   "source": []
  }
 ],
 "metadata": {
  "kernelspec": {
   "display_name": "Python 3 (ipykernel)",
   "language": "python",
   "name": "python3"
  },
  "language_info": {
   "codemirror_mode": {
    "name": "ipython",
    "version": 3
   },
   "file_extension": ".py",
   "mimetype": "text/x-python",
   "name": "python",
   "nbconvert_exporter": "python",
   "pygments_lexer": "ipython3",
   "version": "3.8.18"
  }
 },
 "nbformat": 4,
 "nbformat_minor": 5
}
